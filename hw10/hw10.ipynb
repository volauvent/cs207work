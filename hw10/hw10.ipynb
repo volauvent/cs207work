{
 "cells": [
  {
   "cell_type": "markdown",
   "metadata": {},
   "source": [
    "# HW10"
   ]
  },
  {
   "cell_type": "markdown",
   "metadata": {},
   "source": [
    "## Q1.\n",
    "\n",
    "Implement a Key-Value Search true, which allows no duplicates, but rather, updates the value associated with the key. This will change how `insert` works. Inherit from the augmented tree:\n",
    "\n",
    "`class KeyValueBinarySearchTree(AugmentedBinarySearchTree):`\n",
    "\n",
    "- The constructor should look like this: `def __init__(self, key_value_tuple, parent=None):`. Pick the key and value out separately in the constructor, and initialize the super with just the key, setting an instance variable `self.value` to the value.\n",
    "- insert wont duplicate any more, and `addLeftChild` and `addRightChild` will need to take the tuple in as they call the constructor for us.\n",
    "- implement a `__getitem__`, `__setitem__`, and `__delitem__` so that you can use code like:\n",
    "\n",
    "`btreekv['f']` for searching\n",
    "\n",
    "`btreekv['f']=10` for inserting"
   ]
  },
  {
   "cell_type": "code",
   "execution_count": 48,
   "metadata": {
    "collapsed": true
   },
   "outputs": [],
   "source": [
    "#your code here\n",
    "from BinaryTree import AugmentedBinarySearchTree\n",
    "\n",
    "class KeyValueBinarySearchTree(AugmentedBinarySearchTree):\n",
    "    \"\"\"\n",
    "    A Key-Value binary search tree which allows no duplicates.\n",
    "    \n",
    "    Initial parameter must be tuple.\n",
    "    \n",
    "    Inherirt from AugmentedBinarySearchTree.\n",
    "    \n",
    "    EXAMPLE\n",
    "    -------\n",
    "    >>> btreekv = KeyValueBinarySearchTree(('a', 1))\n",
    "    >>> btreekv['b'] = 2\n",
    "    >>> btreekv['a']\n",
    "    1\n",
    "    >>> btreekv['b']\n",
    "    2\n",
    "    >>> btreekv['c'] == None\n",
    "    True\n",
    "    >>> btreekv['a'] = 3\n",
    "    >>> btreekv['a']\n",
    "    3\n",
    "    >>> btreekv.insert(('b', 4))\n",
    "    >>> btreekv['b'] == 4\n",
    "    True\n",
    "    >>> btreekv.insert(('c', 5))\n",
    "    >>> btreekv['c'] == 5\n",
    "    True\n",
    "    >>> del btreekv['b']\n",
    "    >>> btreekv['b'] == None\n",
    "    True\n",
    "    >>> btreekv = KeyValueBinarySearchTree('a')\n",
    "    Traceback (most recent call last):\n",
    "        ...\n",
    "    TypeError: Input must be a tuple\n",
    "    >>> del btreekv['e']\n",
    "    Traceback (most recent call last):\n",
    "        ...\n",
    "    ValueError: No such data e in tree\n",
    "    \n",
    "    \"\"\"\n",
    "    def __init__(self, key_value_tuple, parent=None):\n",
    "        if not isinstance(key_value_tuple, tuple):\n",
    "            raise TypeError('Input must be a tuple')\n",
    "        super().__init__(key_value_tuple[0], parent)\n",
    "        self.value = key_value_tuple[1]\n",
    "    \n",
    "    #add left chid to current node\n",
    "    def addLeftChild(self, key_value_tuple): \n",
    "        n = self.__class__(key_value_tuple, self)\n",
    "        self.left = n\n",
    "        return n\n",
    "    \n",
    "    #add right chid to current node\n",
    "    def addRightChild(self, key_value_tuple):\n",
    "        n = self.__class__(key_value_tuple, self)\n",
    "        self.right = n\n",
    "        return n\n",
    "    \n",
    "    #insert key and value into tree\n",
    "    #update value for duplicate key\n",
    "    def insert(self, key_value_tuple):\n",
    "        data = key_value_tuple[0] # data is the key\n",
    "        if data < self.data:\n",
    "            if self.hasLeftChild():\n",
    "                self.left.insert(key_value_tuple)\n",
    "            else:\n",
    "                self.addLeftChild(key_value_tuple)\n",
    "                self._insert_hook()\n",
    "        elif data > self.data:\n",
    "            if self.hasRightChild():\n",
    "                self.right.insert(key_value_tuple)\n",
    "            else:\n",
    "                self.addRightChild(key_value_tuple)\n",
    "                self._insert_hook()\n",
    "        else: #update value for duplicate key\n",
    "            self.value = key_value_tuple[1]\n",
    "            self._insert_hook()\n",
    "            \n",
    "    #remove node in the tree\n",
    "    def _remove(self, node):\n",
    "        #leaf case\n",
    "        if node.isLeaf():\n",
    "            if node.isLeftChild():\n",
    "                node.parent.left = None\n",
    "            else:\n",
    "                node.parent.right = None\n",
    "            node._remove_hook(by=node.count)\n",
    "            del node\n",
    "        #having both children case\n",
    "        elif node.hasBothChildren():\n",
    "            s = node.successor()\n",
    "            s.spliceOut()\n",
    "            s._remove_hook(by=s.count)\n",
    "            node.data = s.data\n",
    "            node.value = s.value \n",
    "            node._remove_hook(up=True, by = s.count - node.count)\n",
    "            node.count = s.count\n",
    "            del s \n",
    "        #having one child case\n",
    "        else:\n",
    "            #left child case\n",
    "            if node.hasLeftChild():\n",
    "                if node.isLeftChild():\n",
    "                    node.left.parent = node.parent\n",
    "                    node.parent.left = node.left\n",
    "                elif node.isRightChild():\n",
    "                    node.left.parent = node.parent\n",
    "                    node.parent.right = node.left\n",
    "                #root case\n",
    "                else: \n",
    "                    self.root = node.left\n",
    "                node._remove_hook(by=node.count)\n",
    "                del node\n",
    "            #right child case\n",
    "            else:\n",
    "                if node.isLeftChild():\n",
    "                    node.right.parent = node.parent\n",
    "                    node.parent.left = node.right\n",
    "                elif node.isRightChild():\n",
    "                    node.right.parent = node.parent\n",
    "                    node.parent.right = node.right\n",
    "                #root case\n",
    "                else: \n",
    "                    self.root = node.right\n",
    "                node._remove_hook(by=node.count)\n",
    "                del node\n",
    "            \n",
    "    def __getitem__(self, key):\n",
    "        node = self.search(key)\n",
    "        if node is not None:\n",
    "            return node.value\n",
    "        else:\n",
    "            return None\n",
    "\n",
    "    def __setitem__(self, key, val):\n",
    "        self.insert((key, val))\n",
    "        \n",
    "    def __delitem__(self, key):\n",
    "        self.delete(key)\n"
   ]
  },
  {
   "cell_type": "markdown",
   "metadata": {},
   "source": [
    "It should all make sense...."
   ]
  },
  {
   "cell_type": "code",
   "execution_count": 49,
   "metadata": {
    "collapsed": false
   },
   "outputs": [
    {
     "name": "stdout",
     "output_type": "stream",
     "text": [
      "Finding tests in NoName\n",
      "Trying:\n",
      "    btreekv = KeyValueBinarySearchTree(('a', 1))\n",
      "Expecting nothing\n",
      "ok\n",
      "Trying:\n",
      "    btreekv['b'] = 2\n",
      "Expecting nothing\n",
      "ok\n",
      "Trying:\n",
      "    btreekv['a']\n",
      "Expecting:\n",
      "    1\n",
      "ok\n",
      "Trying:\n",
      "    btreekv['b']\n",
      "Expecting:\n",
      "    2\n",
      "ok\n",
      "Trying:\n",
      "    btreekv['c'] == None\n",
      "Expecting:\n",
      "    True\n",
      "ok\n",
      "Trying:\n",
      "    btreekv['a'] = 3\n",
      "Expecting nothing\n",
      "ok\n",
      "Trying:\n",
      "    btreekv['a']\n",
      "Expecting:\n",
      "    3\n",
      "ok\n",
      "Trying:\n",
      "    btreekv.insert(('b', 4))\n",
      "Expecting nothing\n",
      "ok\n",
      "Trying:\n",
      "    btreekv['b'] == 4\n",
      "Expecting:\n",
      "    True\n",
      "ok\n",
      "Trying:\n",
      "    btreekv.insert(('c', 5))\n",
      "Expecting nothing\n",
      "ok\n",
      "Trying:\n",
      "    btreekv['c'] == 5\n",
      "Expecting:\n",
      "    True\n",
      "ok\n",
      "Trying:\n",
      "    del btreekv['b']\n",
      "Expecting nothing\n",
      "ok\n",
      "Trying:\n",
      "    btreekv['b'] == None\n",
      "Expecting:\n",
      "    True\n",
      "ok\n",
      "Trying:\n",
      "    btreekv = KeyValueBinarySearchTree('a')\n",
      "Expecting:\n",
      "    Traceback (most recent call last):\n",
      "        ...\n",
      "    TypeError: Input must be a tuple\n",
      "ok\n",
      "Trying:\n",
      "    del btreekv['e']\n",
      "Expecting:\n",
      "    Traceback (most recent call last):\n",
      "        ...\n",
      "    ValueError: No such data e in tree\n",
      "ok\n"
     ]
    }
   ],
   "source": [
    "from doctest import run_docstring_examples as dtest\n",
    "dtest(KeyValueBinarySearchTree, globals(), verbose=True)"
   ]
  },
  {
   "cell_type": "code",
   "execution_count": 50,
   "metadata": {
    "collapsed": true
   },
   "outputs": [],
   "source": [
    "btreekv = KeyValueBinarySearchTree(('f', 3))"
   ]
  },
  {
   "cell_type": "code",
   "execution_count": 51,
   "metadata": {
    "collapsed": true
   },
   "outputs": [],
   "source": [
    "kvdata=zip(list('jeihrifhkdfks'), range(13))"
   ]
  },
  {
   "cell_type": "code",
   "execution_count": 52,
   "metadata": {
    "collapsed": true
   },
   "outputs": [],
   "source": [
    "for k,v in kvdata:\n",
    "    btreekv[k]=v"
   ]
  },
  {
   "cell_type": "code",
   "execution_count": 53,
   "metadata": {
    "collapsed": false
   },
   "outputs": [
    {
     "data": {
      "text/plain": [
       "[('d', 9),\n",
       " ('e', 1),\n",
       " ('f', 10),\n",
       " ('h', 7),\n",
       " ('i', 5),\n",
       " ('j', 0),\n",
       " ('k', 11),\n",
       " ('r', 4),\n",
       " ('s', 12)]"
      ]
     },
     "execution_count": 53,
     "metadata": {},
     "output_type": "execute_result"
    }
   ],
   "source": [
    "[(e.data, e.value) for e in list(btreekv)]"
   ]
  },
  {
   "cell_type": "code",
   "execution_count": 54,
   "metadata": {
    "collapsed": false
   },
   "outputs": [
    {
     "data": {
      "text/plain": [
       "10"
      ]
     },
     "execution_count": 54,
     "metadata": {},
     "output_type": "execute_result"
    }
   ],
   "source": [
    "btreekv['f']"
   ]
  },
  {
   "cell_type": "code",
   "execution_count": null,
   "metadata": {
    "collapsed": true
   },
   "outputs": [],
   "source": []
  }
 ],
 "metadata": {
  "anaconda-cloud": {},
  "kernelspec": {
   "display_name": "Python [Root]",
   "language": "python",
   "name": "Python [Root]"
  },
  "language_info": {
   "codemirror_mode": {
    "name": "ipython",
    "version": 3
   },
   "file_extension": ".py",
   "mimetype": "text/x-python",
   "name": "python",
   "nbconvert_exporter": "python",
   "pygments_lexer": "ipython3",
   "version": "3.5.2"
  }
 },
 "nbformat": 4,
 "nbformat_minor": 0
}
